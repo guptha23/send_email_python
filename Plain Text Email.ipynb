{
 "cells": [
  {
   "cell_type": "markdown",
   "metadata": {},
   "source": [
    "<hr>\n",
    "\n",
    "## Plain Text Email in python\n",
    "\n",
    "<hr>"
   ]
  },
  {
   "cell_type": "markdown",
   "metadata": {},
   "source": [
    "<hr>\n",
    "\n",
    "### Steps involved:\n",
    "\n",
    "<pre>\n",
    "\n",
    "    1) Instantiate MIMEMultipart or MIMEText from email.mime module.\n",
    "    2) Add required fields for that object.\n",
    "    3) Open SMTP connection with respective host name through any port.\n",
    "    4) Add login credentials and start encryption service.\n",
    "    5) Send the mail.\n",
    "\n",
    "</pre>\n",
    "\n",
    "<hr>"
   ]
  },
  {
   "cell_type": "code",
   "execution_count": 6,
   "metadata": {},
   "outputs": [],
   "source": [
    "# MIME - Multi Purpose Internet Mail Extensions Protocol --> Helps to send non ascii charecters (audio, video etc.) in mail.\n",
    "# MIMEMultipart helps in sending image and other files, MIMEText supports text.\n",
    "\n",
    "from email.mime.multipart import MIMEMultipart\n",
    "from email.mime.text import MIMEText\n",
    "\n",
    "message = MIMEMultipart()\n",
    "# Name at the header in the message.\n",
    "message[\"from\"] = \"ABC Info.\"\n",
    "# Email ID to which we have to send the email.\n",
    "message[\"to\"] = \"testuser@gmail.com\"\n",
    "# Subject of email.\n",
    "message[\"subject\"] = \"Sent from Python Program.\""
   ]
  },
  {
   "cell_type": "code",
   "execution_count": 7,
   "metadata": {},
   "outputs": [],
   "source": [
    "# Fill the body of the message here.\n",
    "# We can even pass html template in place of this body text.\n",
    "message.attach(MIMEText(\"This is the body of message.\"))"
   ]
  },
  {
   "cell_type": "code",
   "execution_count": 8,
   "metadata": {},
   "outputs": [
    {
     "name": "stdout",
     "output_type": "stream",
     "text": [
      "Email sent..\n"
     ]
    }
   ],
   "source": [
    "# smtp connection is a context manager (has __enter__ and __exit__ dunder methods) so it's better to use with\n",
    "# with handles deletion of resources or closing of connections on it's own.\n",
    "# SMTP host name depends on provider such as gmail, yahoo \n",
    "\n",
    "import smtplib\n",
    "\n",
    "with smtplib.SMTP(host=\"smtp.gmail.com\",port=587) as smtp:\n",
    "    # Similar to say hello to smtp connection.\n",
    "    smtp.ehlo()\n",
    "    \n",
    "    # We should encrypt our message for sending as a mail.\n",
    "    # TLS - Transport Layer Security\n",
    "    smtp.starttls()\n",
    "    \n",
    "    # Give login credentials here.\n",
    "    smtp.login(\"abc@gmail.com\",\"gmifmwzbaikzzhrl\")\n",
    "    \n",
    "    smtp.send_message(message)\n",
    "    print(\"Email sent..\")"
   ]
  },
  {
   "cell_type": "markdown",
   "metadata": {},
   "source": [
    "<hr>\n",
    "\n",
    "## Note:\n",
    "\n",
    "<pre>\n",
    "\n",
    "If you get SMTPAuthenticationError --> \n",
    "\n",
    "    1) Try to enable 2 step authentication and use App password for mail and respective device.\n",
    "    \n",
    "            ------------------------------- or ------------------------------\n",
    "            \n",
    "    2) Give permission to apps with less security to access your mail account.\n",
    "    \n",
    "\n",
    "I have given a dummy mail ID and dummy password in the program.\n",
    "\n",
    "csguptha@yahoo.com\n",
    "\n",
    "<hr>"
   ]
  }
 ],
 "metadata": {
  "kernelspec": {
   "display_name": "Python 3",
   "language": "python",
   "name": "python3"
  },
  "language_info": {
   "codemirror_mode": {
    "name": "ipython",
    "version": 3
   },
   "file_extension": ".py",
   "mimetype": "text/x-python",
   "name": "python",
   "nbconvert_exporter": "python",
   "pygments_lexer": "ipython3",
   "version": "3.7.4"
  }
 },
 "nbformat": 4,
 "nbformat_minor": 4
}
