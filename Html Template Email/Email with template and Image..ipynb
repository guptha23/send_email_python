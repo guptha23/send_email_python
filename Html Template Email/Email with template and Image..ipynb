{
 "cells": [
  {
   "cell_type": "markdown",
   "metadata": {},
   "source": [
    "<hr>\n",
    "\n",
    "## Sending email with html template and an image.\n",
    "\n",
    "<hr>"
   ]
  },
  {
   "cell_type": "markdown",
   "metadata": {},
   "source": [
    "<hr>\n",
    "\n",
    "### Steps involved:\n",
    "\n",
    "<pre>\n",
    "\n",
    "    1) Instantiate MIMEMultipart or MIMEText from email.mime module.\n",
    "    2) Add required fields for that object.\n",
    "    3) Open SMTP connection with respective host name through any port.\n",
    "    4) Add login credentials and start encryption service.\n",
    "    5) Add html template with required formatting.\n",
    "    6) Provide template and image if required with MIMEImage\n",
    "    7) Send the email.\n",
    "\n",
    "</pre>\n",
    "\n",
    "<hr>"
   ]
  },
  {
   "cell_type": "markdown",
   "metadata": {},
   "source": [
    "<hr>\n",
    "\n",
    "## Note:\n",
    "\n",
    "<pre>\n",
    "\n",
    "    In html template variables can be specified by $ sign.\n",
    "    (See html template for review)\n",
    "    \n",
    "    They can be set during message attachment for email.\n",
    "\n",
    "</pre>\n",
    "\n",
    "<hr>"
   ]
  },
  {
   "cell_type": "code",
   "execution_count": 11,
   "metadata": {},
   "outputs": [],
   "source": [
    "# MIME - Multi Purpose Internet Mail Extensions Protocol --> Helps to send non ascii charecters (audio, video etc.) in mail.\n",
    "# MIMEMultipart helps in sending image and other files, MIMEText supports text.\n",
    "\n",
    "from email.mime.multipart import MIMEMultipart\n",
    "from email.mime.text import MIMEText\n",
    "from email.mime.image import MIMEImage\n",
    "\n",
    "message = MIMEMultipart()\n",
    "# Name at the header in the message.\n",
    "message[\"from\"] = \"ABC Info.\"\n",
    "# Email ID to which we have to send the email.\n",
    "message[\"to\"] = \"testuser@gmail.com\"\n",
    "# Subject of email.\n",
    "message[\"subject\"] = \"Sent from Python Program.\""
   ]
  },
  {
   "cell_type": "code",
   "execution_count": 12,
   "metadata": {},
   "outputs": [],
   "source": [
    "# Passing html template as body of email.\n",
    "from string import Template\n",
    "from pathlib import Path\n",
    "\n",
    "html_template = Template(Path(\"template.html\").read_text())\n",
    "\n",
    "# variables in html template specified can be sent as key word arguments or as dictionary.\n",
    "email_body = html_template.substitute(name=\"Uday\", company= \"ABC Corp.\", amount = \"100\")\n",
    "\n",
    "message.attach(MIMEText(email_body, _subtype=\"html\"))\n",
    "\n",
    "message.attach(MIMEImage(Path(\"image.jpg\").read_bytes()))"
   ]
  },
  {
   "cell_type": "code",
   "execution_count": 13,
   "metadata": {},
   "outputs": [
    {
     "name": "stdout",
     "output_type": "stream",
     "text": [
      "Email sent..\n"
     ]
    }
   ],
   "source": [
    "# smtp connection is a context manager (has __enter__ and __exit__ dunder methods) so it's better to use with\n",
    "# with handles deletion of resources or closing of connections on it's own.\n",
    "# SMTP host name depends on provider such as gmail, yahoo \n",
    "\n",
    "import smtplib\n",
    "\n",
    "with smtplib.SMTP(host=\"smtp.gmail.com\",port=587) as smtp:\n",
    "    # Similar to say hello to smtp connection.\n",
    "    smtp.ehlo()\n",
    "    \n",
    "    # We should encrypt our message for sending as a mail.\n",
    "    # TLS - Transport Layer Security\n",
    "    smtp.starttls()\n",
    "    \n",
    "    # Give login credentials here.\n",
    "    smtp.login(\"abc@gmail.com\",\"ubwnujigsdxkqpbe\")\n",
    "    \n",
    "    smtp.send_message(message)\n",
    "    print(\"Email sent..\")"
   ]
  },
  {
   "cell_type": "markdown",
   "metadata": {},
   "source": [
    "<hr>\n",
    "\n",
    "## Note:\n",
    "\n",
    "<pre>\n",
    "\n",
    "If you get SMTPAuthenticationError --> \n",
    "\n",
    "    1) Try to enable 2 step authentication and use App password for mail and respective device.\n",
    "    \n",
    "            ------------------------------- or ------------------------------\n",
    "            \n",
    "    2) Give permission to apps with less security to access your mail account.\n",
    "    \n",
    "\n",
    "I have given a dummy mail ID and dummy password in the program.\n",
    "\n",
    "csguptha@yahoo.com\n",
    "\n",
    "<hr>"
   ]
  }
 ],
 "metadata": {
  "kernelspec": {
   "display_name": "Python 3",
   "language": "python",
   "name": "python3"
  },
  "language_info": {
   "codemirror_mode": {
    "name": "ipython",
    "version": 3
   },
   "file_extension": ".py",
   "mimetype": "text/x-python",
   "name": "python",
   "nbconvert_exporter": "python",
   "pygments_lexer": "ipython3",
   "version": "3.7.4"
  }
 },
 "nbformat": 4,
 "nbformat_minor": 4
}
